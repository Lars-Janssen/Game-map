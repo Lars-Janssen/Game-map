{
 "cells": [
  {
   "cell_type": "code",
   "execution_count": 1,
   "metadata": {},
   "outputs": [],
   "source": [
    "import numpy as np \n",
    "import pandas as pd\n",
    "import torch"
   ]
  },
  {
   "cell_type": "code",
   "execution_count": 2,
   "metadata": {},
   "outputs": [],
   "source": [
    "file_path = \"/media/lars/F77E-7D07/\"\n",
    "unique_pairs = pd.read_csv(file_path + \"unique_pairs.csv\")"
   ]
  },
  {
   "cell_type": "code",
   "execution_count": 3,
   "metadata": {},
   "outputs": [],
   "source": [
    "connections = unique_pairs[(unique_pairs[\"pmi\"] > 5) & (unique_pairs[\"Combined\"] > 10)][[\"title_1\", \"title_2\", \"pmi\"]].rename(columns={\"title_1\": \"Source\", \"title_2\": \"Target\", \"pmi\": \"Weight\"})"
   ]
  },
  {
   "cell_type": "code",
   "execution_count": 7,
   "metadata": {},
   "outputs": [],
   "source": [
    "connections.to_csv(file_path + \"connections.csv\", index=False)"
   ]
  },
  {
   "cell_type": "code",
   "execution_count": 6,
   "metadata": {},
   "outputs": [
    {
     "data": {
      "text/html": [
       "<div>\n",
       "<style scoped>\n",
       "    .dataframe tbody tr th:only-of-type {\n",
       "        vertical-align: middle;\n",
       "    }\n",
       "\n",
       "    .dataframe tbody tr th {\n",
       "        vertical-align: top;\n",
       "    }\n",
       "\n",
       "    .dataframe thead th {\n",
       "        text-align: right;\n",
       "    }\n",
       "</style>\n",
       "<table border=\"1\" class=\"dataframe\">\n",
       "  <thead>\n",
       "    <tr style=\"text-align: right;\">\n",
       "      <th></th>\n",
       "      <th>Source</th>\n",
       "      <th>Target</th>\n",
       "      <th>Weight</th>\n",
       "    </tr>\n",
       "  </thead>\n",
       "  <tbody>\n",
       "    <tr>\n",
       "      <th>7</th>\n",
       "      <td>Prince of Persia: Warrior Within™</td>\n",
       "      <td>LEGO® Harry Potter: Years 1-4</td>\n",
       "      <td>8.143375</td>\n",
       "    </tr>\n",
       "    <tr>\n",
       "      <th>141</th>\n",
       "      <td>Prince of Persia: Warrior Within™</td>\n",
       "      <td>The Stanley Parable</td>\n",
       "      <td>5.720470</td>\n",
       "    </tr>\n",
       "    <tr>\n",
       "      <th>143</th>\n",
       "      <td>Prince of Persia: Warrior Within™</td>\n",
       "      <td>Tomb Raider I</td>\n",
       "      <td>9.076889</td>\n",
       "    </tr>\n",
       "    <tr>\n",
       "      <th>158</th>\n",
       "      <td>Prince of Persia: Warrior Within™</td>\n",
       "      <td>Far Cry® 5</td>\n",
       "      <td>5.409807</td>\n",
       "    </tr>\n",
       "    <tr>\n",
       "      <th>161</th>\n",
       "      <td>Prince of Persia: Warrior Within™</td>\n",
       "      <td>Dragon Age™ Inquisition</td>\n",
       "      <td>8.015149</td>\n",
       "    </tr>\n",
       "    <tr>\n",
       "      <th>...</th>\n",
       "      <td>...</td>\n",
       "      <td>...</td>\n",
       "      <td>...</td>\n",
       "    </tr>\n",
       "    <tr>\n",
       "      <th>4335011</th>\n",
       "      <td>Teenage Mutant Ninja Turtles: Shredder's Revenge</td>\n",
       "      <td>River City Girls 2</td>\n",
       "      <td>9.380425</td>\n",
       "    </tr>\n",
       "    <tr>\n",
       "      <th>4335016</th>\n",
       "      <td>Teenage Mutant Ninja Turtles: Shredder's Revenge</td>\n",
       "      <td>Brotato</td>\n",
       "      <td>5.702438</td>\n",
       "    </tr>\n",
       "    <tr>\n",
       "      <th>4335017</th>\n",
       "      <td>Teenage Mutant Ninja Turtles: Shredder's Revenge</td>\n",
       "      <td>Boneraiser Minions</td>\n",
       "      <td>7.190381</td>\n",
       "    </tr>\n",
       "    <tr>\n",
       "      <th>4335020</th>\n",
       "      <td>Teenage Mutant Ninja Turtles: Shredder's Revenge</td>\n",
       "      <td>Kena: Bridge of Spirits</td>\n",
       "      <td>7.345660</td>\n",
       "    </tr>\n",
       "    <tr>\n",
       "      <th>4335030</th>\n",
       "      <td>Teenage Mutant Ninja Turtles: Shredder's Revenge</td>\n",
       "      <td>Return to Monkey Island</td>\n",
       "      <td>7.222277</td>\n",
       "    </tr>\n",
       "  </tbody>\n",
       "</table>\n",
       "<p>291648 rows × 3 columns</p>\n",
       "</div>"
      ],
      "text/plain": [
       "                                                   Source  \\\n",
       "7                       Prince of Persia: Warrior Within™   \n",
       "141                     Prince of Persia: Warrior Within™   \n",
       "143                     Prince of Persia: Warrior Within™   \n",
       "158                     Prince of Persia: Warrior Within™   \n",
       "161                     Prince of Persia: Warrior Within™   \n",
       "...                                                   ...   \n",
       "4335011  Teenage Mutant Ninja Turtles: Shredder's Revenge   \n",
       "4335016  Teenage Mutant Ninja Turtles: Shredder's Revenge   \n",
       "4335017  Teenage Mutant Ninja Turtles: Shredder's Revenge   \n",
       "4335020  Teenage Mutant Ninja Turtles: Shredder's Revenge   \n",
       "4335030  Teenage Mutant Ninja Turtles: Shredder's Revenge   \n",
       "\n",
       "                                Target    Weight  \n",
       "7        LEGO® Harry Potter: Years 1-4  8.143375  \n",
       "141                The Stanley Parable  5.720470  \n",
       "143                      Tomb Raider I  9.076889  \n",
       "158                         Far Cry® 5  5.409807  \n",
       "161            Dragon Age™ Inquisition  8.015149  \n",
       "...                                ...       ...  \n",
       "4335011             River City Girls 2  9.380425  \n",
       "4335016                        Brotato  5.702438  \n",
       "4335017             Boneraiser Minions  7.190381  \n",
       "4335020        Kena: Bridge of Spirits  7.345660  \n",
       "4335030        Return to Monkey Island  7.222277  \n",
       "\n",
       "[291648 rows x 3 columns]"
      ]
     },
     "execution_count": 6,
     "metadata": {},
     "output_type": "execute_result"
    }
   ],
   "source": [
    "connections"
   ]
  },
  {
   "cell_type": "code",
   "execution_count": null,
   "metadata": {},
   "outputs": [],
   "source": []
  }
 ],
 "metadata": {
  "kernelspec": {
   "display_name": "Python 3",
   "language": "python",
   "name": "python3"
  },
  "language_info": {
   "codemirror_mode": {
    "name": "ipython",
    "version": 3
   },
   "file_extension": ".py",
   "mimetype": "text/x-python",
   "name": "python",
   "nbconvert_exporter": "python",
   "pygments_lexer": "ipython3",
   "version": "3.10.12"
  }
 },
 "nbformat": 4,
 "nbformat_minor": 2
}
