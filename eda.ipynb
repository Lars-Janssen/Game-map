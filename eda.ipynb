{
 "cells": [
  {
   "cell_type": "code",
   "execution_count": 1,
   "metadata": {},
   "outputs": [],
   "source": [
    "import numpy as np \n",
    "import pandas as pd\n",
    "import torch\n",
    "import matplotlib.pyplot as plt \n",
    "import math\n",
    "from tqdm import tqdm"
   ]
  },
  {
   "cell_type": "code",
   "execution_count": 2,
   "metadata": {},
   "outputs": [],
   "source": [
    "file_path = \"/media/lars/F77E-7D07/\"\n",
    "unique_pairs = pd.read_csv(file_path + \"unique_pairs.csv\")\n",
    "#unique_pairs = unique_pairs[~(unique_pairs[\"pmi\"] == -np.inf)]"
   ]
  },
  {
   "cell_type": "code",
   "execution_count": 9,
   "metadata": {},
   "outputs": [],
   "source": [
    "sorted = unique_pairs.sort_values(\"total_recs\")"
   ]
  },
  {
   "cell_type": "code",
   "execution_count": 10,
   "metadata": {},
   "outputs": [
    {
     "data": {
      "image/png": "[encoded data removed]",
      "text/plain": [
       "<Figure size 432x288 with 1 Axes>"
      ]
     },
     "metadata": {
      "needs_background": "light"
     },
     "output_type": "display_data"
    }
   ],
   "source": [
    "plt.plot(np.array(sorted[\"total_recs\"]), np.array(sorted[\"pmi\"]), marker='o')\n",
    "plt.xlabel(\"Total Recs\")\n",
    "plt.ylabel(\"PMI\")\n",
    "plt.title(\"Total Recs vs PMI\")\n",
    "plt.grid(True)\n",
    "plt.show()"
   ]
  },
  {
   "cell_type": "code",
   "execution_count": 3,
   "metadata": {},
   "outputs": [
    {
     "name": "stderr",
     "output_type": "stream",
     "text": [
      "/home/lars/.local/lib/python3.10/site-packages/pandas/core/arraylike.py:399: RuntimeWarning: invalid value encountered in log2\n",
      "  result = getattr(ufunc, method)(*inputs, **kwargs)\n"
     ]
    }
   ],
   "source": [
    "unique_pairs[\"pmi\"] = unique_pairs[\"pmi\"] - (-2 * np.log2(unique_pairs[\"pmi\"]))"
   ]
  },
  {
   "cell_type": "code",
   "execution_count": 8,
   "metadata": {},
   "outputs": [
    {
     "data": {
      "text/html": [
       "<div>\n",
       "<style scoped>\n",
       "    .dataframe tbody tr th:only-of-type {\n",
       "        vertical-align: middle;\n",
       "    }\n",
       "\n",
       "    .dataframe tbody tr th {\n",
       "        vertical-align: top;\n",
       "    }\n",
       "\n",
       "    .dataframe thead th {\n",
       "        text-align: right;\n",
       "    }\n",
       "</style>\n",
       "<table border=\"1\" class=\"dataframe\">\n",
       "  <thead>\n",
       "    <tr style=\"text-align: right;\">\n",
       "      <th></th>\n",
       "      <th>app_id_1</th>\n",
       "      <th>title_1</th>\n",
       "      <th>app_id_2</th>\n",
       "      <th>title_2</th>\n",
       "      <th>Combined</th>\n",
       "      <th>positive_reviews_1</th>\n",
       "      <th>positive_reviews_2</th>\n",
       "      <th>pmi</th>\n",
       "      <th>total_recs</th>\n",
       "    </tr>\n",
       "  </thead>\n",
       "  <tbody>\n",
       "    <tr>\n",
       "      <th>2638358</th>\n",
       "      <td>400</td>\n",
       "      <td>Portal</td>\n",
       "      <td>1094520</td>\n",
       "      <td>Sands of Salzaar</td>\n",
       "      <td>2.0</td>\n",
       "      <td>13049</td>\n",
       "      <td>599</td>\n",
       "      <td>-2.663779</td>\n",
       "      <td>14115</td>\n",
       "    </tr>\n",
       "    <tr>\n",
       "      <th>2637107</th>\n",
       "      <td>400</td>\n",
       "      <td>Portal</td>\n",
       "      <td>1527950</td>\n",
       "      <td>Wartales</td>\n",
       "      <td>3.0</td>\n",
       "      <td>13049</td>\n",
       "      <td>825</td>\n",
       "      <td>-1.674485</td>\n",
       "      <td>14305</td>\n",
       "    </tr>\n",
       "    <tr>\n",
       "      <th>2638518</th>\n",
       "      <td>400</td>\n",
       "      <td>Portal</td>\n",
       "      <td>1324130</td>\n",
       "      <td>Stranded: Alien Dawn</td>\n",
       "      <td>1.0</td>\n",
       "      <td>13049</td>\n",
       "      <td>272</td>\n",
       "      <td>-1.564057</td>\n",
       "      <td>13659</td>\n",
       "    </tr>\n",
       "    <tr>\n",
       "      <th>2637263</th>\n",
       "      <td>400</td>\n",
       "      <td>Portal</td>\n",
       "      <td>784080</td>\n",
       "      <td>MechWarrior 5: Mercenaries</td>\n",
       "      <td>3.0</td>\n",
       "      <td>13049</td>\n",
       "      <td>771</td>\n",
       "      <td>-1.037084</td>\n",
       "      <td>14280</td>\n",
       "    </tr>\n",
       "    <tr>\n",
       "      <th>2638342</th>\n",
       "      <td>400</td>\n",
       "      <td>Portal</td>\n",
       "      <td>1072040</td>\n",
       "      <td>Panzer Corps 2</td>\n",
       "      <td>1.0</td>\n",
       "      <td>13049</td>\n",
       "      <td>237</td>\n",
       "      <td>-0.384111</td>\n",
       "      <td>13599</td>\n",
       "    </tr>\n",
       "    <tr>\n",
       "      <th>...</th>\n",
       "      <td>...</td>\n",
       "      <td>...</td>\n",
       "      <td>...</td>\n",
       "      <td>...</td>\n",
       "      <td>...</td>\n",
       "      <td>...</td>\n",
       "      <td>...</td>\n",
       "      <td>...</td>\n",
       "      <td>...</td>\n",
       "    </tr>\n",
       "    <tr>\n",
       "      <th>2637611</th>\n",
       "      <td>400</td>\n",
       "      <td>Portal</td>\n",
       "      <td>2640</td>\n",
       "      <td>Call of Duty: United Offensive</td>\n",
       "      <td>58.0</td>\n",
       "      <td>13049</td>\n",
       "      <td>242</td>\n",
       "      <td>11.925698</td>\n",
       "      <td>13589</td>\n",
       "    </tr>\n",
       "    <tr>\n",
       "      <th>2636336</th>\n",
       "      <td>400</td>\n",
       "      <td>Portal</td>\n",
       "      <td>48000</td>\n",
       "      <td>LIMBO</td>\n",
       "      <td>530.0</td>\n",
       "      <td>13049</td>\n",
       "      <td>1982</td>\n",
       "      <td>12.152801</td>\n",
       "      <td>15578</td>\n",
       "    </tr>\n",
       "    <tr>\n",
       "      <th>2637167</th>\n",
       "      <td>400</td>\n",
       "      <td>Portal</td>\n",
       "      <td>620</td>\n",
       "      <td>Portal 2</td>\n",
       "      <td>7355.0</td>\n",
       "      <td>13049</td>\n",
       "      <td>27043</td>\n",
       "      <td>12.187779</td>\n",
       "      <td>40740</td>\n",
       "    </tr>\n",
       "    <tr>\n",
       "      <th>2638134</th>\n",
       "      <td>400</td>\n",
       "      <td>Portal</td>\n",
       "      <td>684410</td>\n",
       "      <td>Bridge Constructor Portal</td>\n",
       "      <td>163.0</td>\n",
       "      <td>13049</td>\n",
       "      <td>549</td>\n",
       "      <td>12.368286</td>\n",
       "      <td>13914</td>\n",
       "    </tr>\n",
       "    <tr>\n",
       "      <th>2637601</th>\n",
       "      <td>400</td>\n",
       "      <td>Portal</td>\n",
       "      <td>420</td>\n",
       "      <td>Half-Life 2: Episode Two</td>\n",
       "      <td>975.0</td>\n",
       "      <td>13049</td>\n",
       "      <td>2593</td>\n",
       "      <td>12.849641</td>\n",
       "      <td>16064</td>\n",
       "    </tr>\n",
       "  </tbody>\n",
       "</table>\n",
       "<p>2152 rows × 9 columns</p>\n",
       "</div>"
      ],
      "text/plain": [
       "         app_id_1 title_1  app_id_2                         title_2  Combined  \\\n",
       "2638358       400  Portal   1094520                Sands of Salzaar       2.0   \n",
       "2637107       400  Portal   1527950                        Wartales       3.0   \n",
       "2638518       400  Portal   1324130            Stranded: Alien Dawn       1.0   \n",
       "2637263       400  Portal    784080      MechWarrior 5: Mercenaries       3.0   \n",
       "2638342       400  Portal   1072040                  Panzer Corps 2       1.0   \n",
       "...           ...     ...       ...                             ...       ...   \n",
       "2637611       400  Portal      2640  Call of Duty: United Offensive      58.0   \n",
       "2636336       400  Portal     48000                           LIMBO     530.0   \n",
       "2637167       400  Portal       620                        Portal 2    7355.0   \n",
       "2638134       400  Portal    684410       Bridge Constructor Portal     163.0   \n",
       "2637601       400  Portal       420        Half-Life 2: Episode Two     975.0   \n",
       "\n",
       "         positive_reviews_1  positive_reviews_2        pmi  total_recs  \n",
       "2638358               13049                 599  -2.663779       14115  \n",
       "2637107               13049                 825  -1.674485       14305  \n",
       "2638518               13049                 272  -1.564057       13659  \n",
       "2637263               13049                 771  -1.037084       14280  \n",
       "2638342               13049                 237  -0.384111       13599  \n",
       "...                     ...                 ...        ...         ...  \n",
       "2637611               13049                 242  11.925698       13589  \n",
       "2636336               13049                1982  12.152801       15578  \n",
       "2637167               13049               27043  12.187779       40740  \n",
       "2638134               13049                 549  12.368286       13914  \n",
       "2637601               13049                2593  12.849641       16064  \n",
       "\n",
       "[2152 rows x 9 columns]"
      ]
     },
     "execution_count": 8,
     "metadata": {},
     "output_type": "execute_result"
    }
   ],
   "source": [
    "unique_pairs[(unique_pairs[\"title_1\"] == \"Portal\") & (unique_pairs[\"positive_reviews_2\"] >= 100)].dropna().sort_values(\"pmi\")"
   ]
  },
  {
   "cell_type": "code",
   "execution_count": 11,
   "metadata": {},
   "outputs": [],
   "source": [
    "unique_pairs.to_csv(file_path + \"unique_pairs.csv\")"
   ]
  },
  {
   "cell_type": "code",
   "execution_count": null,
   "metadata": {},
   "outputs": [],
   "source": []
  }
 ],
 "metadata": {
  "kernelspec": {
   "display_name": "Python 3",
   "language": "python",
   "name": "python3"
  },
  "language_info": {
   "codemirror_mode": {
    "name": "ipython",
    "version": 3
   },
   "file_extension": ".py",
   "mimetype": "text/x-python",
   "name": "python",
   "nbconvert_exporter": "python",
   "pygments_lexer": "ipython3",
   "version": "3.10.12"
  }
 },
 "nbformat": 4,
 "nbformat_minor": 2
}
